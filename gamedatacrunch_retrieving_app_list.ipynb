{
 "cells": [
  {
   "cell_type": "code",
   "execution_count": 7,
   "id": "20e96e8c",
   "metadata": {},
   "outputs": [],
   "source": [
    "import gamedatacrunch as gdc\n",
    "import pandas as pd"
   ]
  },
  {
   "cell_type": "code",
   "execution_count": 4,
   "id": "cebd7e11",
   "metadata": {},
   "outputs": [],
   "source": [
    "data = gdc.load_as_steamspy_api()"
   ]
  },
  {
   "cell_type": "code",
   "execution_count": 11,
   "id": "d20f0d36",
   "metadata": {
    "scrolled": false
   },
   "outputs": [],
   "source": [
    "#data"
   ]
  },
  {
   "cell_type": "code",
   "execution_count": 12,
   "id": "c04932fe",
   "metadata": {},
   "outputs": [],
   "source": [
    "#url = \"https://steamspy.com/api.php\"\n",
    "#parameters = {\"request\": \"all\"}\n",
    "\n",
    "# request 'all' from steam spy and parse into dataframe\n",
    "#json_data = get_request(url, parameters=parameters)\n",
    "#steam_spy_all = pd.DataFrame.from_dict(json_data, orient='index')\n",
    "\n",
    "# generate sorted app_list from steamspy data\n",
    "#app_list = steam_spy_all[['appid', 'name']].sort_values('appid').reset_index(drop=True)\n",
    "\n",
    "# export disabled to keep consistency across download sessions\n",
    "#app_list.to_csv('app_list.csv', index=False)\n",
    "\n",
    "# instead read from stored csv\n",
    "#app_list = pd.read_csv('app_list.csv')\n",
    "\n",
    "# display first few rows\n",
    "#app_list.head()"
   ]
  },
  {
   "cell_type": "code",
   "execution_count": 13,
   "id": "944782e2",
   "metadata": {},
   "outputs": [],
   "source": [
    "app_list = pd.DataFrame(data).T.sort_values('appid').reset_index(drop=True)"
   ]
  },
  {
   "cell_type": "code",
   "execution_count": 16,
   "id": "f47d8be7",
   "metadata": {},
   "outputs": [
    {
     "data": {
      "text/html": [
       "<div>\n",
       "<style scoped>\n",
       "    .dataframe tbody tr th:only-of-type {\n",
       "        vertical-align: middle;\n",
       "    }\n",
       "\n",
       "    .dataframe tbody tr th {\n",
       "        vertical-align: top;\n",
       "    }\n",
       "\n",
       "    .dataframe thead th {\n",
       "        text-align: right;\n",
       "    }\n",
       "</style>\n",
       "<table border=\"1\" class=\"dataframe\">\n",
       "  <thead>\n",
       "    <tr style=\"text-align: right;\">\n",
       "      <th></th>\n",
       "      <th>appid</th>\n",
       "      <th>name</th>\n",
       "    </tr>\n",
       "  </thead>\n",
       "  <tbody>\n",
       "    <tr>\n",
       "      <th>0</th>\n",
       "      <td>10</td>\n",
       "      <td>Counter-Strike</td>\n",
       "    </tr>\n",
       "    <tr>\n",
       "      <th>1</th>\n",
       "      <td>20</td>\n",
       "      <td>Team Fortress Classic</td>\n",
       "    </tr>\n",
       "    <tr>\n",
       "      <th>2</th>\n",
       "      <td>30</td>\n",
       "      <td>Day of Defeat</td>\n",
       "    </tr>\n",
       "    <tr>\n",
       "      <th>3</th>\n",
       "      <td>40</td>\n",
       "      <td>Deathmatch Classic</td>\n",
       "    </tr>\n",
       "    <tr>\n",
       "      <th>4</th>\n",
       "      <td>50</td>\n",
       "      <td>Half-Life: Opposing Force</td>\n",
       "    </tr>\n",
       "  </tbody>\n",
       "</table>\n",
       "</div>"
      ],
      "text/plain": [
       "  appid                       name\n",
       "0    10             Counter-Strike\n",
       "1    20      Team Fortress Classic\n",
       "2    30              Day of Defeat\n",
       "3    40         Deathmatch Classic\n",
       "4    50  Half-Life: Opposing Force"
      ]
     },
     "execution_count": 16,
     "metadata": {},
     "output_type": "execute_result"
    }
   ],
   "source": [
    "app_list.head()"
   ]
  },
  {
   "cell_type": "code",
   "execution_count": 15,
   "id": "d9072ae9",
   "metadata": {},
   "outputs": [],
   "source": [
    "app_list.to_csv('app_list.csv', index=False)"
   ]
  },
  {
   "cell_type": "code",
   "execution_count": 20,
   "id": "cba8dfa9",
   "metadata": {},
   "outputs": [],
   "source": [
    "df = pd.read_csv('app_list.csv')"
   ]
  },
  {
   "cell_type": "code",
   "execution_count": 28,
   "id": "8c5ea6bd",
   "metadata": {},
   "outputs": [
    {
     "data": {
      "text/plain": [
       "0             10\n",
       "1             20\n",
       "2             30\n",
       "3             40\n",
       "4             50\n",
       "          ...   \n",
       "79037    2230900\n",
       "79038    2230920\n",
       "79039    2231740\n",
       "79040    2232130\n",
       "79041    2232200\n",
       "Name: appid, Length: 79042, dtype: object"
      ]
     },
     "execution_count": 28,
     "metadata": {},
     "output_type": "execute_result"
    }
   ],
   "source": [
    "df.appid.astype(int).astype(str)"
   ]
  },
  {
   "cell_type": "code",
   "execution_count": null,
   "id": "97d65739",
   "metadata": {},
   "outputs": [],
   "source": []
  }
 ],
 "metadata": {
  "kernelspec": {
   "display_name": "Python 3 (ipykernel)",
   "language": "python",
   "name": "python3"
  },
  "language_info": {
   "codemirror_mode": {
    "name": "ipython",
    "version": 3
   },
   "file_extension": ".py",
   "mimetype": "text/x-python",
   "name": "python",
   "nbconvert_exporter": "python",
   "pygments_lexer": "ipython3",
   "version": "3.9.12"
  }
 },
 "nbformat": 4,
 "nbformat_minor": 5
}
